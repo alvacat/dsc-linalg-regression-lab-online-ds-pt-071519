{
 "cells": [
  {
   "cell_type": "markdown",
   "metadata": {},
   "source": [
    "# Regression with Linear Algebra - Lab\n",
    "\n",
    "## Introduction\n",
    "\n",
    "In this lab, you'll apply regression analysis using simple matrix manipulations to fit a model to given data, and then predict new values for previously unseen data. You'll follow the approach highlighted in the previous lesson where you used NumPy to build the appropriate matrices and vectors and solve for the $\\beta$ (unknown variables) vector. The beta vector will be used with test data to make new predictions. You'll also evaluate the model fit.\n",
    "In order to make this experiment interesting, you'll use NumPy at every single stage of this experiment, i.e., loading data, creating matrices, performing train-test split, model fitting, and evaluation.\n",
    "  \n",
    "\n",
    "## Objectives\n",
    "\n",
    "In this lab you will:\n",
    "\n",
    "- Use matrix algebra to calculate the parameter values of a linear regression\n",
    "\n",
    "\n",
    "First, let's import necessary libraries: "
   ]
  },
  {
   "cell_type": "code",
   "execution_count": 1,
   "metadata": {},
   "outputs": [],
   "source": [
    "import csv # for reading csv file\n",
    "import numpy as np"
   ]
  },
  {
   "cell_type": "markdown",
   "metadata": {},
   "source": [
    "## Dataset \n",
    "\n",
    "The dataset you'll use for this experiment is \"**Sales Prices in the City of Windsor, Canada**\", something very similar to the Boston Housing dataset. This dataset contains a number of input (independent) variables, including area, number of bedrooms/bathrooms, facilities(AC/garage), etc. and an output (dependent) variable, **price**.  You'll formulate a linear algebra problem to find linear mappings from input features using the equation provided in the previous lesson. \n",
    "\n",
    "This will allow you to find a relationship between house features and house price for the given data, allowing you to find unknown prices for houses, given the input features.  \n",
    "\n",
    "A description of the dataset and included features is available [here](https://rdrr.io/cran/Ecdat/man/Housing.html).\n",
    "\n",
    "In your repository, the dataset is available as `windsor_housing.csv`. There are 11 input features (first 11 columns):\n",
    "\n",
    "\tlotsize\tbedrooms  bathrms  stories\tdriveway  recroom\tfullbase  gashw\t airco  garagepl   prefarea\n",
    "\n",
    "and 1 output feature i.e. **price** (12th column). \n",
    "\n",
    "The focus of this lab is not really answering a preset analytical question, but to learn how you can perform a regression experiment, using mathematical manipulations - similar to the one you performed using `statsmodels`. So you won't be using any `pandas` or `statsmodels` goodness here. The key objectives here are to: \n",
    "\n",
    "- Understand regression with matrix algebra and \n",
    "- Mastery in NumPy scientific computation\n",
    "\n",
    "## Stage 1: Prepare data for modeling \n",
    "\n",
    "Let's give you a head start by importing the dataset. You'll perform the following steps to get the data ready for analysis:\n",
    "\n",
    "* Initialize an empty list `data` for loading data\n",
    "* Read the csv file containing complete (raw) `windsor_housing.csv`. [Use `csv.reader()` for loading data.](https://docs.python.org/3/library/csv.html). Store this in `data` one row at a time \n",
    "\n",
    "* Drop the first row of csv file as it contains the names of variables (header) which won't be used during analysis (keeping this will cause errors as it contains text values) \n",
    "\n",
    "* Append a column of all **1**s to the data (bias) as the first column\n",
    "\n",
    "* Convert `data` to a NumPy array and inspect first few rows \n",
    "\n",
    "> NOTE: `read.csv()` reads the csv as a text file, so you should convert the contents to float."
   ]
  },
  {
   "cell_type": "code",
   "execution_count": 3,
   "metadata": {},
   "outputs": [
    {
     "name": "stdout",
     "output_type": "stream",
     "text": [
      "[[1.00e+00 5.85e+03 3.00e+00 1.00e+00 2.00e+00 1.00e+00 0.00e+00 1.00e+00\n",
      "  0.00e+00 0.00e+00 1.00e+00 0.00e+00 4.20e+04]\n",
      " [1.00e+00 4.00e+03 2.00e+00 1.00e+00 1.00e+00 1.00e+00 0.00e+00 0.00e+00\n",
      "  0.00e+00 0.00e+00 0.00e+00 0.00e+00 3.85e+04]\n",
      " [1.00e+00 3.06e+03 3.00e+00 1.00e+00 1.00e+00 1.00e+00 0.00e+00 0.00e+00\n",
      "  0.00e+00 0.00e+00 0.00e+00 0.00e+00 4.95e+04]\n",
      " [1.00e+00 6.65e+03 3.00e+00 1.00e+00 2.00e+00 1.00e+00 1.00e+00 0.00e+00\n",
      "  0.00e+00 0.00e+00 0.00e+00 0.00e+00 6.05e+04]]\n"
     ]
    }
   ],
   "source": [
    "data=[]\n",
    "with open('windsor_housing.csv', newline='') as f:\n",
    "    reader = csv.reader(f)\n",
    "    next(reader)\n",
    "    for row in reader:\n",
    "        float_row=[float(x) for x in row]\n",
    "        float_row.insert(0,1)\n",
    "        data.append(float_row)\n",
    "    data=np.array(data)\n",
    "print(data[:4])\n",
    "\n",
    "\n",
    "# First 5 rows of raw data \n",
    "\n",
    "# array([[1.00e+00, 5.85e+03, 3.00e+00, 1.00e+00, 2.00e+00, 1.00e+00,\n",
    "#         0.00e+00, 1.00e+00, 0.00e+00, 0.00e+00, 1.00e+00, 0.00e+00,\n",
    "#         4.20e+04],\n",
    "#        [1.00e+00, 4.00e+03, 2.00e+00, 1.00e+00, 1.00e+00, 1.00e+00,\n",
    "#         0.00e+00, 0.00e+00, 0.00e+00, 0.00e+00, 0.00e+00, 0.00e+00,\n",
    "#         3.85e+04],\n",
    "#        [1.00e+00, 3.06e+03, 3.00e+00, 1.00e+00, 1.00e+00, 1.00e+00,\n",
    "#         0.00e+00, 0.00e+00, 0.00e+00, 0.00e+00, 0.00e+00, 0.00e+00,\n",
    "#         4.95e+04],\n",
    "#        [1.00e+00, 6.65e+03, 3.00e+00, 1.00e+00, 2.00e+00, 1.00e+00,\n",
    "#         1.00e+00, 0.00e+00, 0.00e+00, 0.00e+00, 0.00e+00, 0.00e+00,\n",
    "#         6.05e+04],\n",
    "#        [1.00e+00, 6.36e+03, 2.00e+00, 1.00e+00, 1.00e+00, 1.00e+00,\n",
    "#         0.00e+00, 0.00e+00, 0.00e+00, 0.00e+00, 0.00e+00, 0.00e+00,\n",
    "#         6.10e+04]])"
   ]
  },
  {
   "cell_type": "markdown",
   "metadata": {},
   "source": [
    "## Step 2: Perform a 80/20 train-test split\n",
    "\n",
    "Explore NumPy's official documentation to manually split a dataset using a random sampling method of your choice. Some useful methods are located in the [numpy.random library](https://docs.scipy.org/doc/numpy-1.14.0/reference/routines.random.html).\n",
    "* Perform a **random** 80/20 split on data using a method of your choice in NumPy\n",
    "* Split the data to create `x_train`, `y_train`, `x_test`, and `y_test` arrays \n",
    "* Inspect the contents to see if the split performed as expected\n",
    "\n",
    "> Note: When randomly splitting data, it's always recommended to set a seed in order to ensure reproducibility "
   ]
  },
  {
   "cell_type": "code",
   "execution_count": 13,
   "metadata": {},
   "outputs": [
    {
     "name": "stdout",
     "output_type": "stream",
     "text": [
      "Raw data shape: (546, 13)\n",
      "Train/Test split: (437, 13), (109, 13)\n",
      "x_train, y_train, x_test, y_test: (437, 12), (437,), (109, 12), (109,)\n"
     ]
    }
   ],
   "source": [
    "# Your code here \n",
    "np.random.shuffle(data)\n",
    "train_size=round(0.8*len(data))\n",
    "\n",
    "training=data[:train_size]\n",
    "testing=data[train_size:]\n",
    "\n",
    "x_train=[]\n",
    "y_train=[]\n",
    "for row in training:\n",
    "    x_train.append(row[0:12])\n",
    "    y_train.append(row[-1])\n",
    "x_train=np.array(x_train)\n",
    "y_train=np.array(y_train)\n",
    "\n",
    "x_test=[]\n",
    "y_test=[]\n",
    "for row in testing:\n",
    "    x_test.append(row[0:12])\n",
    "    y_test.append(row[-1])\n",
    "x_test=np.array(x_test)\n",
    "y_test=np.array(y_test)\n",
    "\n",
    "print(f'Raw data shape: {data.shape}')\n",
    "print(f'Train/Test split: {training.shape}, {testing.shape}')\n",
    "print(f'x_train, y_train, x_test, y_test: {x_train.shape}, {y_train.shape}, {x_test.shape}, {y_test.shape}')\n",
    "\n",
    "# Split results\n",
    "# Raw data Shape:  (546, 13)\n",
    "# Train/Test Split: (437, 13) (109, 13)\n",
    "# x_train, y_train, x_test, y_test: (437, 12) (437,) (109, 12) (109,)"
   ]
  },
  {
   "cell_type": "markdown",
   "metadata": {},
   "source": [
    "## Step 3: Calculate the `beta` \n",
    "\n",
    "With $X$ and $y$ in place, you can now compute your beta values with $x_\\text{train}$ and $y_\\text{train}$ as:\n",
    "#### $\\beta = (x_\\text{train}^T. x_\\text{train})^{-1} . x_\\text{train}^T . y_\\text{train}$\n",
    "\n",
    "* Using NumPy operations (transpose, inverse) that we saw earlier, compute the above equation in steps \n",
    "* Print your beta values "
   ]
  },
  {
   "cell_type": "code",
   "execution_count": 14,
   "metadata": {},
   "outputs": [
    {
     "data": {
      "text/plain": [
       "array([-3.21074311e+03,  3.58060051e+00,  1.22492254e+03,  1.43547644e+04,\n",
       "        7.09109521e+03,  5.69599239e+03,  5.00334425e+03,  6.16001131e+03,\n",
       "        1.48783533e+04,  1.17248269e+04,  4.48062469e+03,  9.81222131e+03])"
      ]
     },
     "execution_count": 14,
     "metadata": {},
     "output_type": "execute_result"
    }
   ],
   "source": [
    "x_train_t=x_train.T\n",
    "x_train_t_x=x_train_t.dot(x_train)\n",
    "x_train_t_x_inv=np.linalg.inv(x_train_t_x)\n",
    "beta=(x_train_t_x_inv.dot(x_train_t)).dot(y_train)\n",
    "beta\n",
    "\n",
    "\n",
    "\n",
    "# Beta values\n",
    "# Due to random split, your answers may vary \n",
    "# [-5.46637290e+03  3.62457767e+00  2.75100964e+03  1.47223649e+04\n",
    "#   5.97774591e+03  5.71916945e+03  5.73109882e+03  3.83586258e+03\n",
    "#   8.12674607e+03  1.33296437e+04  3.74995169e+03  1.01514699e+04]"
   ]
  },
  {
   "cell_type": "markdown",
   "metadata": {},
   "source": [
    "## Step 4: Make predictions\n",
    "Great, you now have a set of coefficients that describe the linear mappings between $X$ and $y$. You can now use the calculated beta values with the test datasets that we left out to calculate $y$ predictions. Next, use all features in turn and multiply it with this beta. The result will give a prediction for each row which you can append to a new array of predictions.\n",
    "\n",
    "$\\hat{y} = x\\beta = \\beta_0 + \\beta_1 x_1 +  \\beta_2 x_2 + \\ldots + \\beta_m x_m $ \n",
    "\n",
    "* Create a new empty list (`y_pred`) for saving predictions\n",
    "* For each row of `x_test`, take the dot product of the row with beta to calculate the prediction for that row\n",
    "* Append the predictions to `y_pred`\n",
    "* Print the new set of predictions"
   ]
  },
  {
   "cell_type": "code",
   "execution_count": 15,
   "metadata": {},
   "outputs": [
    {
     "data": {
      "text/plain": [
       "[75490.13230044302,\n",
       " 63761.30100424685,\n",
       " 68943.72941850818,\n",
       " 65076.680869275224,\n",
       " 59280.676309374205,\n",
       " 45327.20469619948,\n",
       " 50349.069978549276,\n",
       " 94339.3818808628,\n",
       " 85739.6010349324,\n",
       " 80448.36091912907,\n",
       " 54092.17944607936,\n",
       " 55076.775577906854,\n",
       " 93767.6620218494,\n",
       " 117417.93334048193,\n",
       " 50030.18378716806,\n",
       " 53951.57786261629,\n",
       " 60467.671126054964,\n",
       " 71804.49543452675,\n",
       " 97912.33373541397,\n",
       " 104166.44028547485,\n",
       " 150417.25935358883,\n",
       " 36797.66384354446,\n",
       " 77892.5569758161,\n",
       " 40633.25017561203,\n",
       " 30610.743329337623,\n",
       " 87731.91195512036,\n",
       " 31426.763080720906,\n",
       " 48224.12325373599,\n",
       " 55195.78183784782,\n",
       " 39414.33979790721,\n",
       " 66284.12067579161,\n",
       " 46977.94650616189,\n",
       " 80959.83006971146,\n",
       " 33675.0230355238,\n",
       " 107543.59396459015,\n",
       " 93623.00301537366,\n",
       " 40882.38600641231,\n",
       " 78492.51416758687,\n",
       " 54355.974693736,\n",
       " 55742.52583812182,\n",
       " 54416.57581749819,\n",
       " 68949.05808691464,\n",
       " 52418.299907924724,\n",
       " 59676.967893573215,\n",
       " 36531.956388525236,\n",
       " 104149.32073160956,\n",
       " 70471.91454818,\n",
       " 63658.23955769336,\n",
       " 66838.18411005245,\n",
       " 91121.93099731863,\n",
       " 50971.561412817035,\n",
       " 63511.309328920695,\n",
       " 69060.09063403658,\n",
       " 85933.49692220642,\n",
       " 50515.577290792506,\n",
       " 127705.2707905879,\n",
       " 62910.59749957188,\n",
       " 66107.08007055323,\n",
       " 53499.99842607243,\n",
       " 65294.93115466617,\n",
       " 46691.9834006429,\n",
       " 54821.322471432504,\n",
       " 66551.72086998736,\n",
       " 63179.7325482256,\n",
       " 38068.03400669277,\n",
       " 59094.75978979008,\n",
       " 91071.19764986739,\n",
       " 55071.967024846774,\n",
       " 43916.399976776316,\n",
       " 37631.557909215684,\n",
       " 75711.43215485889,\n",
       " 62392.00043634481,\n",
       " 107122.29410555371,\n",
       " 55848.69647002671,\n",
       " 51667.51190272791,\n",
       " 76486.65433480786,\n",
       " 52906.42726516615,\n",
       " 53639.726821427146,\n",
       " 99067.67684030936,\n",
       " 51103.360716042625,\n",
       " 62224.28212312925,\n",
       " 79695.41043853913,\n",
       " 48661.31368034487,\n",
       " 101247.09686193697,\n",
       " 41033.128392337276,\n",
       " 40703.35598098486,\n",
       " 75774.21571042886,\n",
       " 81510.62159934832,\n",
       " 76243.5784537217,\n",
       " 60744.200654420696,\n",
       " 34756.72155367151,\n",
       " 88825.05740366846,\n",
       " 33296.1937107494,\n",
       " 65140.317933244994,\n",
       " 43330.89970506786,\n",
       " 85846.96456993185,\n",
       " 80119.52380273677,\n",
       " 91077.96951034485,\n",
       " 53019.26166381495,\n",
       " 53248.86893749323,\n",
       " 66890.6131092815,\n",
       " 49153.57318116059,\n",
       " 58682.844593087386,\n",
       " 38562.51404143844,\n",
       " 51533.3124527671,\n",
       " 102147.90370506718,\n",
       " 55257.1369816581,\n",
       " 95799.77943537003,\n",
       " 117370.32992558694]"
      ]
     },
     "execution_count": 15,
     "metadata": {},
     "output_type": "execute_result"
    }
   ],
   "source": [
    "y_pred=[]\n",
    "for row in x_test:\n",
    "    y_pred.append(row.dot(beta))\n",
    "y_pred"
   ]
  },
  {
   "cell_type": "markdown",
   "metadata": {},
   "source": [
    "## Step 5: Evaluate model \n",
    "\n",
    "### Visualize actual vs. predicted values\n",
    "This is exciting, now your model can use the beta value to predict the price of houses given the input features. Let's plot these predictions against the actual values in `y_test` to see how much our model deviates. "
   ]
  },
  {
   "cell_type": "code",
   "execution_count": 22,
   "metadata": {},
   "outputs": [
    {
     "data": {
      "image/png": "[encoded data removed]",
      "text/plain": [
       "<Figure size 432x288 with 1 Axes>"
      ]
     },
     "metadata": {
      "needs_background": "light"
     },
     "output_type": "display_data"
    }
   ],
   "source": [
    "# Plot predicted and actual values as line plots\n",
    "import matplotlib.pyplot as plt\n",
    "plt.plot(y_pred, linestyle='-', marker='o', label='predictions')\n",
    "plt.plot(y_test, linestyle='-', marker='o', label='actual values')\n",
    "plt.title('Actual vs. predicted values')\n",
    "plt.legend()\n",
    "plt.show()"
   ]
  },
  {
   "cell_type": "markdown",
   "metadata": {},
   "source": [
    "This doesn't look so bad, does it? Your model, although isn't perfect at this stage, is making a good attempt to predict house prices although a few prediction seem a bit out. There could be a number of reasons for this. Let's try to dig a bit deeper to check model's predictive abilities by comparing these prediction with actual values of `y_test` individually. That will help you calculate the RMSE value (root mean squared error) for your model. \n",
    "\n",
    "### Root Mean Squared Error\n",
    "Here is the formula for RMSE:  \n",
    "\n",
    "$$ \\large RMSE = \\sqrt{\\sum^N_{i=1}\\dfrac{ (\\text{Predicted}_i-\\text{Actual}_i)^2}{N}}$$\n",
    "\n",
    "* Initialize an empty array `err`\n",
    "* For each row in `y_test` and `y_pred`, take the squared difference and append error for each row in the `err` array\n",
    "* Calculate $RMSE$ from `err` using the formula shown above "
   ]
  },
  {
   "cell_type": "code",
   "execution_count": 24,
   "metadata": {},
   "outputs": [
    {
     "data": {
      "text/plain": [
       "14452.746534440814"
      ]
     },
     "execution_count": 24,
     "metadata": {},
     "output_type": "execute_result"
    }
   ],
   "source": [
    "# Calculate RMSE\n",
    "import math\n",
    "\n",
    "err=[]\n",
    "rows=len(y_test)\n",
    "for i in range(rows):\n",
    "    err.append((y_pred[i]-y_test[i])**2)\n",
    "RMSE=math.sqrt(np.array(err).sum()/rows)\n",
    "RMSE\n",
    "# Due to random split, your answers may vary \n",
    "# RMSE = 14868.172645765708"
   ]
  },
  {
   "cell_type": "markdown",
   "metadata": {},
   "source": [
    "### Normalized root mean squared error\n",
    "The above error is clearly in terms of the dependent variable, i.e., the final house price. You can also use a normalized mean squared error in case of multiple regression which can be calculated from RMSE using following the formula:\n",
    "\n",
    "$$ \\large NRMSE = \\dfrac{RMSE}{max_i y_i - min_i y_i} $$\n",
    "\n",
    "* Calculate normalized RMSE"
   ]
  },
  {
   "cell_type": "code",
   "execution_count": 25,
   "metadata": {},
   "outputs": [
    {
     "data": {
      "text/plain": [
       "0.10001900715875996"
      ]
     },
     "execution_count": 25,
     "metadata": {},
     "output_type": "execute_result"
    }
   ],
   "source": [
    "# Calculate NRMSE\n",
    "RMSE/(y_test.max() - y_test.min())\n",
    "\n",
    "# Due to random split, your answers may vary \n",
    "# 0.09011013724706489"
   ]
  },
  {
   "cell_type": "markdown",
   "metadata": {},
   "source": [
    "There it is. A complete multiple regression analysis using nothing but NumPy. Having good programming skills in NumPy allows you to dig deeper into analytical algorithms in machine learning and deep learning. Using matrix multiplication techniques you saw here, you can easily build a whole neural network from scratch. \n",
    "\n",
    "## Level up (Optional)\n",
    "\n",
    "* Calculate the R-squared and adjusted R-squared for the above model \n",
    "* Plot the residuals (similar to `statsmodels`) and comment on the variance and heteroscedasticity\n",
    "* Run the experiment in `statsmodels` and compare the performance of both approaches in terms of computational cost\n",
    "\n",
    "## Summary\n",
    "\n",
    "In this lab, you built a predictive model for predicting house prices. Remember this is a very naive implementation of regression modeling. The purpose here was to get an introduction to the applications of linear algebra into machine learning and predictive analysis. There are a number of shortcomings in this modeling approach and you can further apply a number of data modeling techniques to improve this model. "
   ]
  }
 ],
 "metadata": {
  "kernelspec": {
   "display_name": "Python 3",
   "language": "python",
   "name": "python3"
  },
  "language_info": {
   "codemirror_mode": {
    "name": "ipython",
    "version": 3
   },
   "file_extension": ".py",
   "mimetype": "text/x-python",
   "name": "python",
   "nbconvert_exporter": "python",
   "pygments_lexer": "ipython3",
   "version": "3.7.3"
  }
 },
 "nbformat": 4,
 "nbformat_minor": 2
}
